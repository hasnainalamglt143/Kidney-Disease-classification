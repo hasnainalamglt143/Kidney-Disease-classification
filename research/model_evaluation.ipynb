{
 "cells": [
  {
   "cell_type": "code",
   "execution_count": 1,
   "id": "04f7641c",
   "metadata": {},
   "outputs": [],
   "source": [
    "import os"
   ]
  },
  {
   "cell_type": "code",
   "execution_count": 2,
   "id": "ce0ba864",
   "metadata": {},
   "outputs": [],
   "source": [
    "prev=os.getcwd()"
   ]
  },
  {
   "cell_type": "code",
   "execution_count": 3,
   "id": "c1ef6c97",
   "metadata": {},
   "outputs": [],
   "source": [
    "os.chdir(\"../\")"
   ]
  },
  {
   "cell_type": "code",
   "execution_count": 4,
   "id": "a04122a2",
   "metadata": {},
   "outputs": [
    {
     "data": {
      "text/plain": [
       "'c:\\\\Users\\\\Muhammad Hasnain\\\\Desktop\\\\KidneyDiseaseClassification'"
      ]
     },
     "execution_count": 4,
     "metadata": {},
     "output_type": "execute_result"
    }
   ],
   "source": [
    "%pwd"
   ]
  },
  {
   "cell_type": "code",
   "execution_count": null,
   "id": "592e7c61",
   "metadata": {},
   "outputs": [],
   "source": [
    "import dagshub\n",
    "# https://dagshub.com/hasnainalamglt143/Kidney-Disease-classification.mlflow\n",
    "dagshub.init(repo_owner='hasnainalamglt143', repo_name='Kidney-Disease-classification', mlflow=True)\n",
    "\n",
    "import mlflow\n",
    "with mlflow.start_run():\n",
    "  mlflow.log_param('parameter name', 'value')\n",
    "  mlflow.log_metric('metric name', 1)"
   ]
  },
  {
   "cell_type": "code",
   "execution_count": 19,
   "id": "a4d4077d",
   "metadata": {},
   "outputs": [],
   "source": [
    "from pathlib import Path\n",
    "from dataclasses import dataclass\n",
    "from cnn_classifier.constants import PARAMS_FILE_PATH,CONFIG_FILE_PATH\n",
    "from cnn_classifier.utils.common import read_yaml,create_directories\n",
    "import tensorflow as tf"
   ]
  },
  {
   "cell_type": "code",
   "execution_count": 9,
   "id": "df92bd63",
   "metadata": {},
   "outputs": [],
   "source": [
    "@dataclass(frozen=True)\n",
    "class ModelEvaluationEntity:\n",
    "    training_data_path:Path\n",
    "    trained_model_path:Path\n",
    "    all_params:dict\n",
    "    "
   ]
  },
  {
   "cell_type": "code",
   "execution_count": 17,
   "id": "121e3aff",
   "metadata": {},
   "outputs": [],
   "source": [
    "class ModelEvaluationConfigManager:\n",
    "    def __init__(self):\n",
    "        self.config=read_yaml(CONFIG_FILE_PATH)\n",
    "        self.params=read_yaml(PARAMS_FILE_PATH)\n",
    "        create_directories([self.config.artifacts_root])\n",
    "\n",
    "    def get_eval_config(self):\n",
    "        return ModelEvaluationEntity(training_data_path=Path(os.path.join(self.config.data_ingestion.root_dir,\"kidney_images\")),trained_model_path=Path(self.config.model_training.trained_model_path),all_params=self.params)\n",
    "\n",
    "\n",
    "            "
   ]
  },
  {
   "cell_type": "code",
   "execution_count": 18,
   "id": "bf600b15",
   "metadata": {},
   "outputs": [
    {
     "name": "stdout",
     "output_type": "stream",
     "text": [
      "[2025-09-30 23:40:14,147] : common: INFO: yaml file 'config\\config.yaml' loaded \n",
      "[2025-09-30 23:40:14,151] : common: INFO: yaml file 'params.yaml' loaded \n",
      "[2025-09-30 23:40:14,151] : common: INFO: created directory at: artifacts\n"
     ]
    },
    {
     "data": {
      "text/plain": [
       "ModelEvaluationEntity(training_data_path=WindowsPath('artifacts/data_ingestion/kidney_images'), trained_model_path=WindowsPath('artifacts/trained_model/trained_model.keras'), all_params=ConfigBox({'AUGMENTATION': True, 'INCLUDE_TOP': False, 'EPOCHS': 1, 'CLASSES': 2, 'BATCH_SIZE': 16, 'IMAGE_SHAPE': [224, 224, 3], 'LEARNING_RATE': 0.01, 'WEIGHTS': 'imagenet'}))"
      ]
     },
     "execution_count": 18,
     "metadata": {},
     "output_type": "execute_result"
    }
   ],
   "source": [
    "obj=ModelEvaluationConfigManager()\n",
    "obj.get_eval_config()"
   ]
  },
  {
   "cell_type": "code",
   "execution_count": 26,
   "id": "48d5243e",
   "metadata": {},
   "outputs": [],
   "source": [
    "class ModelEvaluation:\n",
    "    def __init__(self,config:ModelEvaluationConfigManager):\n",
    "        self.config=config.get_eval_config()\n",
    "    \n",
    "    \n",
    "    def get_trained_model(self):\n",
    "        model=tf.keras.models.load_model(self.config.trained_model_path)\n",
    "        return model\n",
    "\n",
    "    def _valid_generator(self):\n",
    "        datagenerator_kwargs = dict( rescale = 1./255, validation_split=0.30 ) \n",
    "        dataflow_kwargs = dict( target_size=self.config.all_params.IMAGE_SHAPE[:-1], batch_size=self.config.all_params.BATCH_SIZE, interpolation=\"bilinear\" ) \n",
    "        valid_datagenerator = tf.keras.preprocessing.image.ImageDataGenerator(\n",
    "              **datagenerator_kwargs )\n",
    "         \n",
    "        self.valid_generator = valid_datagenerator.flow_from_directory( \n",
    "             directory=self.config.training_data_path, \n",
    "             subset=\"validation\", \n",
    "             shuffle=False, **dataflow_kwargs ) \n",
    "        \n",
    "    def model_evaluation(self):\n",
    "        self.model=self.get_trained_model()\n",
    "        self._valid_generator()\n",
    "        print(self.model)\n",
    "\n",
    "\n"
   ]
  },
  {
   "cell_type": "code",
   "execution_count": 27,
   "id": "c85cd47a",
   "metadata": {},
   "outputs": [
    {
     "name": "stdout",
     "output_type": "stream",
     "text": [
      "Found 139 images belonging to 2 classes.\n",
      "<Sequential name=sequential, built=True>\n"
     ]
    }
   ],
   "source": [
    "obj2=ModelEvaluation(obj)\n",
    "obj2.model_evaluation()"
   ]
  },
  {
   "cell_type": "code",
   "execution_count": null,
   "id": "1ec8fdb4",
   "metadata": {},
   "outputs": [],
   "source": []
  }
 ],
 "metadata": {
  "kernelspec": {
   "display_name": "myenv",
   "language": "python",
   "name": "python3"
  },
  "language_info": {
   "codemirror_mode": {
    "name": "ipython",
    "version": 3
   },
   "file_extension": ".py",
   "mimetype": "text/x-python",
   "name": "python",
   "nbconvert_exporter": "python",
   "pygments_lexer": "ipython3",
   "version": "3.12.11"
  }
 },
 "nbformat": 4,
 "nbformat_minor": 5
}
