{
 "cells": [
  {
   "cell_type": "code",
   "execution_count": 1,
   "id": "0df1cb44",
   "metadata": {},
   "outputs": [],
   "source": [
    "import os"
   ]
  },
  {
   "cell_type": "code",
   "execution_count": 2,
   "id": "c97fd54e",
   "metadata": {},
   "outputs": [],
   "source": [
    "prev_dir=os.getcwd()"
   ]
  },
  {
   "cell_type": "code",
   "execution_count": 3,
   "id": "c8fd68de",
   "metadata": {},
   "outputs": [],
   "source": [
    "os.chdir(\"../\")"
   ]
  },
  {
   "cell_type": "code",
   "execution_count": 4,
   "id": "71cecb81",
   "metadata": {},
   "outputs": [
    {
     "data": {
      "text/plain": [
       "'c:\\\\Users\\\\Muhammad Hasnain\\\\Desktop\\\\KidneyDiseaseClassification'"
      ]
     },
     "execution_count": 4,
     "metadata": {},
     "output_type": "execute_result"
    }
   ],
   "source": [
    "%pwd"
   ]
  },
  {
   "cell_type": "code",
   "execution_count": 5,
   "id": "7fb7386c",
   "metadata": {},
   "outputs": [],
   "source": [
    "from dataclasses import dataclass\n",
    "from pathlib import Path"
   ]
  },
  {
   "cell_type": "code",
   "execution_count": 34,
   "id": "6d7f18f2",
   "metadata": {},
   "outputs": [],
   "source": [
    "@dataclass(frozen=True)\n",
    "class ModelTrainingCofigEntity:\n",
    "    base_model_path:Path\n",
    "    trained_model_path:Path\n",
    "    dataset_path:Path\n",
    "    params_is_augmented:bool\n",
    "    params_epochs: int\n",
    "    params_batch_size: int\n",
    "    params_img_shape: list \n",
    "    params_learning_rate: float \n",
    "    params_weights: list\n",
    "\n",
    "\n"
   ]
  },
  {
   "cell_type": "code",
   "execution_count": 35,
   "id": "b8a1fb32",
   "metadata": {},
   "outputs": [],
   "source": [
    "from cnn_classifier.constants import CONFIG_FILE_PATH,PARAMS_FILE_PATH\n",
    "from cnn_classifier.utils.common import  read_yaml"
   ]
  },
  {
   "cell_type": "code",
   "execution_count": 36,
   "id": "69b0a005",
   "metadata": {},
   "outputs": [],
   "source": [
    "class ModelTrainingConfigurationManager:\n",
    "    def __init__(self,config_filepath=CONFIG_FILE_PATH,params_filepath=PARAMS_FILE_PATH):\n",
    "        self.config=read_yaml(config_filepath)\n",
    "        self.params=read_yaml(params_filepath)\n",
    "        os.makedirs(self.config.model_training.root_dir,exist_ok=True)\n",
    "\n",
    "    \n",
    "    def get_model_config(self):\n",
    "       return ModelTrainingCofigEntity(base_model_path=Path(self.config.prepare_base_model.updated_base_model_path),trained_model_path=Path(self.config.model_training.trained_model_path),dataset_path=Path(self.config.data_ingestion.unzip_dir+\"/kidney_images\"),params_epochs=self.params.EPOCHS,params_batch_size=self.params.BATCH_SIZE,params_learning_rate=self.params.LEARNING_RATE,params_img_shape=self.params.IMAGE_SHAPE,params_weights=self.params.WEIGHTS,params_is_augmented=self.params.AUGMENTATION)\n",
    "        "
   ]
  },
  {
   "cell_type": "code",
   "execution_count": 37,
   "id": "aa1c5ead",
   "metadata": {},
   "outputs": [
    {
     "name": "stdout",
     "output_type": "stream",
     "text": [
      "[2025-09-30 00:49:18,176] : common: INFO: yaml file 'config\\config.yaml' loaded \n",
      "[2025-09-30 00:49:18,182] : common: INFO: yaml file 'params.yaml' loaded \n"
     ]
    },
    {
     "data": {
      "text/plain": [
       "ModelTrainingCofigEntity(base_model_path=WindowsPath('artifacts/prepare_base_model/updated_base_model.h5'), trained_model_path=WindowsPath('artifacts/trained_model/model.h5'), dataset_path=WindowsPath('artifacts/data_ingestion/kidney_images'), params_is_augmented=True, params_epochs=1, params_batch_size=16, params_img_shape=BoxList([224, 224, 3]), params_learning_rate=0.01, params_weights='imagenet')"
      ]
     },
     "execution_count": 37,
     "metadata": {},
     "output_type": "execute_result"
    }
   ],
   "source": [
    "OBJ= ModelTrainingConfigurationManager()\n",
    "OBJ.get_model_config()"
   ]
  },
  {
   "cell_type": "code",
   "execution_count": 38,
   "id": "2ab37ae3",
   "metadata": {},
   "outputs": [
    {
     "name": "stdout",
     "output_type": "stream",
     "text": [
      "2.20.0\n",
      "True\n"
     ]
    }
   ],
   "source": [
    "import tensorflow as tf\n",
    "print(tf.__version__)\n",
    "print(tf.executing_eagerly())\n"
   ]
  },
  {
   "cell_type": "code",
   "execution_count": null,
   "id": "30b82139",
   "metadata": {},
   "outputs": [],
   "source": [
    "import tensorflow as tf\n",
    "from pathlib import Path\n",
    "\n",
    "class ModelTraining:\n",
    "    def __init__(self, config: ModelTrainingConfigurationManager):\n",
    "        self.config = config.get_model_config()\n",
    "        print(f\"TensorFlow version: {tf.__version__}\")\n",
    "        print(f\"Eager execution enabled: {tf.executing_eagerly()}\")\n",
    "        print(f\"Keras backend: {tf.keras.backend.backend()}\")\n",
    "\n",
    "    def get_base_model(self):\n",
    "        model = tf.keras.models.load_model(self.config.base_model_path)\n",
    "        return model\n",
    "\n",
    "    def train_valid_generator(self):\n",
    "        self.model = self.get_base_model()\n",
    "        print(\"Image shape from config:\", self.config.params_img_shape)\n",
    "        valid_datagen=Im\n",
    "        \n",
    "        # Create datasets\n",
    "        # train_ds = tf.keras.utils.image_dataset_from_directory(\n",
    "        #     self.config.dataset_path,\n",
    "        #     validation_split=0.2,\n",
    "        #     subset=\"training\",\n",
    "        #     seed=123,\n",
    "        #     image_size=self.config.params_img_shape[:-1],\n",
    "        #     batch_size=self.config.params_batch_size,\n",
    "        #     label_mode='categorical'  # ADD THIS - automatically one-hot encodes\n",
    "        # )\n",
    "        # val_ds = tf.keras.utils.image_dataset_from_directory(\n",
    "        #     self.config.dataset_path,\n",
    "        #     validation_split=0.2,\n",
    "        #     subset=\"validation\",\n",
    "        #     seed=123,\n",
    "        #     image_size=self.config.params_img_shape[:-1],\n",
    "        #     batch_size=self.config.params_batch_size,\n",
    "        #     label_mode='categorical'  # ADD THIS\n",
    "        # )\n",
    "        \n",
    "        # # Normalize images only\n",
    "        # normalization_layer = tf.keras.layers.Rescaling(1./255)\n",
    "        \n",
    "        # # Simpler preprocessing - no manual one-hot encoding needed\n",
    "        # train_ds = train_ds.map(\n",
    "        #     lambda x, y: (normalization_layer(x), y),\n",
    "        #     num_parallel_calls=tf.data.AUTOTUNE\n",
    "        # )\n",
    "        # val_ds = val_ds.map(\n",
    "        #     lambda x, y: (normalization_layer(x), y),\n",
    "        #     num_parallel_calls=tf.data.AUTOTUNE\n",
    "        # )\n",
    "        \n",
    "        # # Performance optimizations\n",
    "        # train_ds = train_ds.cache().prefetch(buffer_size=tf.data.AUTOTUNE)\n",
    "        # val_ds = val_ds.cache().prefetch(buffer_size=tf.data.AUTOTUNE)\n",
    "        \n",
    "        # self.train_generator = train_ds\n",
    "        # self.valid_generator = val_ds\n",
    "\n",
    "    @staticmethod\n",
    "    def save_model(path: Path, model: tf.keras.Model):\n",
    "        try:\n",
    "            # Method 1: Standard save\n",
    "            model.save(path, save_format='keras')\n",
    "        except Exception as e:\n",
    "            print(f\"Standard save failed: {e}\")\n",
    "            print(\"Trying alternative save method...\")\n",
    "            \n",
    "          \n",
    "\n",
    "    def train(self):\n",
    "        self.model.fit(\n",
    "            self.train_generator,\n",
    "            epochs=self.config.params_epochs,\n",
    "            validation_data=self.valid_generator\n",
    "        )\n",
    "\n",
    "        self.save_model(\n",
    "            path=self.config.trained_model_path,\n",
    "            model=self.model\n",
    "        )\n"
   ]
  },
  {
   "cell_type": "code",
   "execution_count": null,
   "id": "fc5b6265",
   "metadata": {},
   "outputs": [],
   "source": []
  },
  {
   "cell_type": "code",
   "execution_count": null,
   "id": "f31291d3",
   "metadata": {},
   "outputs": [
    {
     "name": "stdout",
     "output_type": "stream",
     "text": [
      "[2025-09-30 09:10:00,644] : common: INFO: yaml file 'config\\config.yaml' loaded \n"
     ]
    },
    {
     "name": "stdout",
     "output_type": "stream",
     "text": [
      "[2025-09-30 09:10:00,664] : common: INFO: yaml file 'params.yaml' loaded \n",
      "TensorFlow version: 2.20.0\n",
      "Eager execution enabled: True\n",
      "Keras backend: tensorflow\n",
      "Image shape from config: [224, 224, 3]\n",
      "Found 7360 files belonging to 2 classes.\n",
      "Using 5888 files for training.\n",
      "Found 7360 files belonging to 2 classes.\n",
      "Using 1472 files for validation.\n",
      "\u001b[1m368/368\u001b[0m \u001b[32m━━━━━━━━━━━━━━━━━━━━\u001b[0m\u001b[37m\u001b[0m \u001b[1m0s\u001b[0m 27s/step - accuracy: 0.6633 - loss: 9.7004 "
     ]
    }
   ],
   "source": [
    "conf_obj=ModelTrainingConfigurationManager()\n",
    "obj2=ModelTraining(conf_obj)\n",
    "obj2.train_valid_generator()\n",
    "obj2.train()\n"
   ]
  },
  {
   "cell_type": "markdown",
   "id": "7db56358",
   "metadata": {},
   "source": []
  },
  {
   "cell_type": "code",
   "execution_count": 1,
   "id": "9467388e",
   "metadata": {},
   "outputs": [
    {
     "ename": "NameError",
     "evalue": "name 'obj2' is not defined",
     "output_type": "error",
     "traceback": [
      "\u001b[31m---------------------------------------------------------------------------\u001b[39m",
      "\u001b[31mNameError\u001b[39m                                 Traceback (most recent call last)",
      "\u001b[36mCell\u001b[39m\u001b[36m \u001b[39m\u001b[32mIn[1]\u001b[39m\u001b[32m, line 1\u001b[39m\n\u001b[32m----> \u001b[39m\u001b[32m1\u001b[39m \u001b[43mobj2\u001b[49m.model\n",
      "\u001b[31mNameError\u001b[39m: name 'obj2' is not defined"
     ]
    }
   ],
   "source": [
    "obj2.model"
   ]
  },
  {
   "cell_type": "code",
   "execution_count": null,
   "id": "52ceaa88",
   "metadata": {},
   "outputs": [],
   "source": []
  }
 ],
 "metadata": {
  "kernelspec": {
   "display_name": "myenv",
   "language": "python",
   "name": "python3"
  },
  "language_info": {
   "codemirror_mode": {
    "name": "ipython",
    "version": 3
   },
   "file_extension": ".py",
   "mimetype": "text/x-python",
   "name": "python",
   "nbconvert_exporter": "python",
   "pygments_lexer": "ipython3",
   "version": "3.12.11"
  }
 },
 "nbformat": 4,
 "nbformat_minor": 5
}
