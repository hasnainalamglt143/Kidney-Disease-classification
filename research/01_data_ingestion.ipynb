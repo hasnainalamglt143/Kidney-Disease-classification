{
 "cells": [
  {
   "cell_type": "code",
   "execution_count": 28,
   "id": "ce39fe75",
   "metadata": {},
   "outputs": [],
   "source": [
    "import os\n",
    "prev_dir=os.getcwd()"
   ]
  },
  {
   "cell_type": "code",
   "execution_count": 56,
   "id": "41332623",
   "metadata": {},
   "outputs": [
    {
     "data": {
      "text/plain": [
       "'c:\\\\Users\\\\Muhammad Hasnain\\\\Desktop\\\\KidneyDiseaseClassification'"
      ]
     },
     "execution_count": 56,
     "metadata": {},
     "output_type": "execute_result"
    }
   ],
   "source": [
    "os.chdir(prev_dir)\n",
    "\n",
    "%pwd"
   ]
  },
  {
   "cell_type": "code",
   "execution_count": 65,
   "id": "ae34c559",
   "metadata": {},
   "outputs": [],
   "source": [
    "from dataclasses import dataclass\n",
    "from pathlib import Path\n",
    "\n",
    "@dataclass(frozen=True)\n",
    "class DataIngestionConfig:\n",
    "    root_dir:Path\n",
    "    src_url:str\n",
    "    local_data_file:Path\n",
    "    unzip_dir:Path\n"
   ]
  },
  {
   "cell_type": "code",
   "execution_count": 66,
   "id": "ab095f20",
   "metadata": {},
   "outputs": [],
   "source": [
    "from cnn_classifier.constants import  *\n",
    "from cnn_classifier.utils.common import read_yaml,create_directories"
   ]
  },
  {
   "cell_type": "code",
   "execution_count": null,
   "id": "b0f52d5f",
   "metadata": {},
   "outputs": [],
   "source": [
    "class ConfigurationManager():\n",
    "    def __init__(self,config_filepath=CONFIG_FILE_PATH,params_filepath=PARAMS_FILE_PATH):\n",
    "        self.params=read_yaml(params_filepath)\n",
    "        self.config=read_yaml(config_filepath)\n",
    "\n",
    "        create_directories([self.config.artifacts_root])\n",
    "    \n",
    "    def get_data_ingestion_config(self)->DataIngestionConfig:\n",
    "        config=self.config.data_ingestion\n",
    "        create_directories([config.root_dir])\n",
    "        data_ingestion_config=DataIngestionConfig(root_dir=config.root_dir,src_url=config.SRC_URL,local_data_file=config.local_data_file,unzip_dir=config.unzip_dir)\n",
    "        return data_ingestion_config\n"
   ]
  },
  {
   "cell_type": "code",
   "execution_count": 68,
   "id": "bc024011",
   "metadata": {},
   "outputs": [
    {
     "name": "stdout",
     "output_type": "stream",
     "text": [
      "[2025-09-28 13:51:42,096] : common: INFO: yaml file 'params.yaml' loaded \n",
      "[2025-09-28 13:51:42,103] : common: INFO: yaml file 'config\\config.yaml' loaded \n",
      "[2025-09-28 13:51:42,106] : common: INFO: created directory at: artifacts\n",
      "[2025-09-28 13:51:42,108] : common: INFO: created directory at: artifacts/data_ingestion\n"
     ]
    },
    {
     "data": {
      "text/plain": [
       "'artifacts/data_ingestion'"
      ]
     },
     "execution_count": 68,
     "metadata": {},
     "output_type": "execute_result"
    }
   ],
   "source": [
    "conf=ConfigurationManager()\n",
    "cnf=conf.get_data_ingestion_config()\n",
    "cnf.root_dir\n",
    "cnf.unzip_dir"
   ]
  },
  {
   "cell_type": "code",
   "execution_count": 69,
   "id": "cfbe68c5",
   "metadata": {},
   "outputs": [],
   "source": [
    "import os\n",
    "from src import logger\n",
    "from cnn_classifier.utils.common import get_size\n",
    "import gdown\n",
    "import zipfile"
   ]
  },
  {
   "cell_type": "code",
   "execution_count": 70,
   "id": "54cf2285",
   "metadata": {},
   "outputs": [],
   "source": [
    "\n",
    "\n",
    "class DataIngestion:\n",
    "    def __init__(self, config: DataIngestionConfig):\n",
    "        self.config = config\n",
    "\n",
    "    \n",
    "    def download_file(self)-> str:\n",
    "        '''\n",
    "        Fetch data from the url\n",
    "        '''\n",
    "\n",
    "        try: \n",
    "            dataset_url = self.config.src_url\n",
    "            zip_download_dir = self.config.local_data_file\n",
    "            os.makedirs(\"artifacts/data_ingestion\", exist_ok=True)\n",
    "            logger.info(f\"Downloading data from {dataset_url} into file {zip_download_dir}\")\n",
    "\n",
    "            file_id = dataset_url.split(\"/\")[-2]\n",
    "            prefix = 'https://drive.google.com/uc?/export=download&id='\n",
    "            gdown.download(prefix+file_id,zip_download_dir)\n",
    "\n",
    "            logger.info(f\"Downloaded data from {dataset_url} into file {zip_download_dir}\")\n",
    "\n",
    "        except Exception as e:\n",
    "            raise e\n",
    "\n",
    "    def extract_zip_file(self):\n",
    "        \"\"\"\n",
    "        zip_file_path: str\n",
    "        Extracts the zip file into the data directory\n",
    "        Function returns None\n",
    "        \"\"\"\n",
    "        print(self.config.local_data_file)   # Path to zip\n",
    "        print(self.config.unzip_dir)\n",
    "        print(os.access(self.config.local_data_file, os.R_OK)) \n",
    "        print(os.access(self.config.local_data_file, os.W_OK)) \n",
    "        unzip_path = self.config.unzip_dir\n",
    "        os.makedirs(unzip_path, exist_ok=True)\n",
    "        with zipfile.ZipFile(self.config.local_data_file, 'r') as zip_ref:\n",
    "            zip_ref.extractall(unzip_path)        \n",
    "        "
   ]
  },
  {
   "cell_type": "code",
   "execution_count": 71,
   "id": "26011bd3",
   "metadata": {},
   "outputs": [],
   "source": [
    "data_ingestion=DataIngestion(cnf)\n",
    "# data_ingestion.download_file()"
   ]
  },
  {
   "cell_type": "code",
   "execution_count": 72,
   "id": "12229d8a",
   "metadata": {},
   "outputs": [
    {
     "name": "stdout",
     "output_type": "stream",
     "text": [
      "artifacts/data_ingestion/data.zip\n",
      "artifacts/data_ingestion\n",
      "True\n",
      "True\n"
     ]
    }
   ],
   "source": [
    "data_ingestion.extract_zip_file()"
   ]
  },
  {
   "cell_type": "code",
   "execution_count": null,
   "id": "c1d8e7f6",
   "metadata": {},
   "outputs": [],
   "source": []
  }
 ],
 "metadata": {
  "kernelspec": {
   "display_name": "myenv",
   "language": "python",
   "name": "python3"
  },
  "language_info": {
   "codemirror_mode": {
    "name": "ipython",
    "version": 3
   },
   "file_extension": ".py",
   "mimetype": "text/x-python",
   "name": "python",
   "nbconvert_exporter": "python",
   "pygments_lexer": "ipython3",
   "version": "3.12.11"
  }
 },
 "nbformat": 4,
 "nbformat_minor": 5
}
