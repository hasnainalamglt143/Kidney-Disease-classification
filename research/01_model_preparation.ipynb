{
 "cells": [
  {
   "cell_type": "code",
   "execution_count": null,
   "id": "1d631910",
   "metadata": {},
   "outputs": [],
   "source": [
    "import os\n",
    "from dataclasses import dataclass\n",
    "from pathlib import Path"
   ]
  },
  {
   "cell_type": "code",
   "execution_count": 26,
   "id": "5892b852",
   "metadata": {},
   "outputs": [],
   "source": [
    "prev_dir=os.getcwd()"
   ]
  },
  {
   "cell_type": "code",
   "execution_count": 27,
   "id": "e36f609a",
   "metadata": {},
   "outputs": [],
   "source": [
    "os.chdir(\"../\")"
   ]
  },
  {
   "cell_type": "code",
   "execution_count": 28,
   "id": "cbd9b990",
   "metadata": {},
   "outputs": [
    {
     "data": {
      "text/plain": [
       "'c:\\\\Users\\\\Muhammad Hasnain\\\\Desktop\\\\KidneyDiseaseClassification'"
      ]
     },
     "execution_count": 28,
     "metadata": {},
     "output_type": "execute_result"
    }
   ],
   "source": [
    "%pwd"
   ]
  },
  {
   "cell_type": "code",
   "execution_count": 49,
   "id": "365f04fa",
   "metadata": {},
   "outputs": [],
   "source": [
    "@dataclass(frozen=True)\n",
    "class BaseModelPrepConfigEntity:\n",
    "    root_dir: Path\n",
    "    base_model_path: Path\n",
    "    updated_base_model_path: Path\n",
    "    # augmentation: bool = True\n",
    "    params_include_top: bool\n",
    "    params_epochs: int\n",
    "    params_classes: int\n",
    "    params_batch_size: int\n",
    "    params_img_shape: list \n",
    "    params_learning_rate: float \n",
    "    params_weights: list"
   ]
  },
  {
   "cell_type": "code",
   "execution_count": 45,
   "id": "885ca05e",
   "metadata": {},
   "outputs": [],
   "source": [
    "from cnn_classifier.constants import  *\n",
    "from cnn_classifier.utils.common import read_yaml,create_directories"
   ]
  },
  {
   "cell_type": "code",
   "execution_count": 50,
   "id": "2b7c5038",
   "metadata": {},
   "outputs": [],
   "source": [
    "class BaseModelPrepConfigManager():\n",
    "    def __init__(self,config_filepath=CONFIG_FILE_PATH,params_filepath=PARAMS_FILE_PATH):\n",
    "        self.params=read_yaml(params_filepath)\n",
    "        self.config=read_yaml(config_filepath)\n",
    "\n",
    "        # create_directories([self.config.artifacts_root])\n",
    "    \n",
    "    def get_model_preparation_config(self)->BaseModelPrepConfigEntity:\n",
    "        config=self.config.prepare_base_model\n",
    "        create_directories([config.root_dir])\n",
    "\n",
    "        model_preparation_config=BaseModelPrepConfigEntity(root_dir=config.root_dir,base_model_path=Path(config.base_model_path),updated_base_model_path=config.updated_base_model_path,params_include_top=self.params.INCLUDE_TOP,params_classes=self.params.CLASSES,   params_batch_size= self.params.BATCH_SIZE,\n",
    "        params_img_shape=self.params.IMAGE_SHAPE ,params_learning_rate= self.params.LEARNING_RATE, params_weights=self.params.WEIGHTS,params_epochs=self.params.EPOCHS)\n",
    "\n",
    "        return model_preparation_config\n"
   ]
  },
  {
   "cell_type": "code",
   "execution_count": 51,
   "id": "e970cf7a",
   "metadata": {},
   "outputs": [
    {
     "name": "stdout",
     "output_type": "stream",
     "text": [
      "[2025-09-28 21:42:48,571] : common: INFO: yaml file 'params.yaml' loaded \n",
      "[2025-09-28 21:42:48,596] : common: INFO: yaml file 'config\\config.yaml' loaded \n",
      "[2025-09-28 21:42:48,605] : common: INFO: created directory at: artifacts/prepare_base_model\n"
     ]
    },
    {
     "data": {
      "text/plain": [
       "BaseModelPrepConfigEntity(root_dir='artifacts/prepare_base_model', base_model_path=WindowsPath('artifacts/prepare_base_model/base_model.h5'), updated_base_model_path='artifacts/prepare_base_model/updated_base_model.h5', params_include_top=False, params_epochs=1, params_classes=2, params_batch_size=16, params_img_shape=BoxList([224, 224, 3]), params_learning_rate=0.01, params_weights='imagenet')"
      ]
     },
     "execution_count": 51,
     "metadata": {},
     "output_type": "execute_result"
    }
   ],
   "source": [
    "obj=BaseModelPrepConfigManager()\n",
    "obj.get_model_preparation_config()"
   ]
  },
  {
   "cell_type": "code",
   "execution_count": null,
   "id": "8694a452",
   "metadata": {},
   "outputs": [
    {
     "ename": "ImportError",
     "evalue": "cannot import name 'request' from 'urllib.request' (c:\\Users\\Muhammad Hasnain\\miniconda3\\envs\\myenv\\Lib\\urllib\\request.py)",
     "output_type": "error",
     "traceback": [
      "\u001b[31m---------------------------------------------------------------------------\u001b[39m",
      "\u001b[31mImportError\u001b[39m                               Traceback (most recent call last)",
      "\u001b[36mCell\u001b[39m\u001b[36m \u001b[39m\u001b[32mIn[48]\u001b[39m\u001b[32m, line 3\u001b[39m\n\u001b[32m      1\u001b[39m \u001b[38;5;28;01mimport\u001b[39;00m\u001b[38;5;250m \u001b[39m\u001b[34;01mtensorflow\u001b[39;00m\u001b[38;5;250m \u001b[39m\u001b[38;5;28;01mas\u001b[39;00m\u001b[38;5;250m \u001b[39m\u001b[34;01mtf\u001b[39;00m\n\u001b[32m      2\u001b[39m \u001b[38;5;28;01mimport\u001b[39;00m\u001b[38;5;250m \u001b[39m\u001b[34;01mos\u001b[39;00m\n\u001b[32m----> \u001b[39m\u001b[32m3\u001b[39m \u001b[38;5;28;01mfrom\u001b[39;00m\u001b[38;5;250m \u001b[39m\u001b[34;01murllib\u001b[39;00m\u001b[34;01m.\u001b[39;00m\u001b[34;01mrequest\u001b[39;00m\u001b[38;5;250m \u001b[39m\u001b[38;5;28;01mimport\u001b[39;00m request\n\u001b[32m      4\u001b[39m \u001b[38;5;28;01mimport\u001b[39;00m\u001b[38;5;250m \u001b[39m\u001b[34;01mzipfile\u001b[39;00m\n",
      "\u001b[31mImportError\u001b[39m: cannot import name 'request' from 'urllib.request' (c:\\Users\\Muhammad Hasnain\\miniconda3\\envs\\myenv\\Lib\\urllib\\request.py)"
     ]
    }
   ],
   "source": [
    "import tensorflow as tf\n",
    "import os\n",
    "from urllib.request import requests\n",
    "import zipfile\n",
    "from cnn_classifier.utils.common import save_bin\n",
    "\n"
   ]
  },
  {
   "cell_type": "code",
   "execution_count": null,
   "id": "a630a0b2",
   "metadata": {},
   "outputs": [],
   "source": [
    "class PrepareBaseModelConfig:\n",
    "    def __init__(self,config:BaseModelPrepConfigManager):\n",
    "        self.config=config\n",
    "\n",
    "    def get_base_model(self):\n",
    "        model=tf.keras.applications.vgg16.VGG16(\n",
    "            input_shape=self.config.img_shape,include_top=self.config.params_include_top,\n",
    "            weights=self.config.params_weights\n",
    "        )\n",
    "        self.save_model(path=self.config.base_model_path,model=model)\n",
    "\n",
    "    @staticmethod\n",
    "    def _prepare_full_model(model, classes, freeze_all, freeze_till, learning_rate):\n",
    "        if freeze_all:\n",
    "            for layer in model.layers:\n",
    "                model.trainable = False\n",
    "        elif (freeze_till is not None) and (freeze_till > 0):\n",
    "            for layer in model.layers[:-freeze_till]:\n",
    "                model.trainable = False\n",
    "\n",
    "        flatten_in = tf.keras.layers.Flatten()(model.output)\n",
    "        prediction = tf.keras.layers.Dense(\n",
    "            units=classes,\n",
    "            activation=\"softmax\"\n",
    "        )(flatten_in)\n",
    "\n",
    "        full_model = tf.keras.models.Model(\n",
    "            inputs=model.input,\n",
    "            outputs=prediction\n",
    "        )\n",
    "\n",
    "        full_model.compile(\n",
    "            optimizer=tf.keras.optimizers.SGD(learning_rate=learning_rate),\n",
    "            loss=tf.keras.losses.CategoricalCrossentropy(),\n",
    "            metrics=[\"accuracy\"]\n",
    "        )\n",
    "\n",
    "        full_model.summary()\n",
    "        return full_model\n",
    "    \n",
    "\n",
    "\n",
    "    def update_base_model(self):\n",
    "        self.full_model = self._prepare_full_model(\n",
    "            model=self.model,\n",
    "            classes=self.config.params_classes,\n",
    "            freeze_all=True,\n",
    "            freeze_till=None,\n",
    "            learning_rate=self.config.params_learning_rate\n",
    "        )\n",
    "\n",
    "        self.save_model(path=self.config.updated_base_model_path, model=self.full_model)\n",
    "\n",
    "        \n",
    "\n",
    "    def save_model(path:Path,model:tf.keras.Model):\n",
    "        model.save(path)"
   ]
  }
 ],
 "metadata": {
  "kernelspec": {
   "display_name": "myenv",
   "language": "python",
   "name": "python3"
  },
  "language_info": {
   "codemirror_mode": {
    "name": "ipython",
    "version": 3
   },
   "file_extension": ".py",
   "mimetype": "text/x-python",
   "name": "python",
   "nbconvert_exporter": "python",
   "pygments_lexer": "ipython3",
   "version": "3.12.11"
  }
 },
 "nbformat": 4,
 "nbformat_minor": 5
}
